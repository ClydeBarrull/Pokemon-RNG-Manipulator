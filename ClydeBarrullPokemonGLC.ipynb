{
 "cells": [
  {
   "cell_type": "code",
   "execution_count": 17,
   "id": "c4f8b280-68f9-41a1-b347-04f7ac76d303",
   "metadata": {},
   "outputs": [
    {
     "data": {
      "text/plain": [
       "'Hardi'"
      ]
     },
     "execution_count": 17,
     "metadata": {},
     "output_type": "execute_result"
    }
   ],
   "source": [
    "natures = {0:'Hardi',1:'Solo',2:'Brave',3:'Rigide',4:'Mauvais',5:'Assuré',6:'Docile',7:'Relax',8:'Malin',9:'Lâche',10:'Timide',11:'Pressé',12:'Sérieux',13:'Jovial',14:'Naïf',15:'Modeste',16:'Doux',17:'Discret',18:'Pudique',19:'Foufou',20:'Calme',21:'Gentil',22:'Malpoli',23:'Prudent',24:'Bizarre'}\n",
    "\n",
    "#définition de fonctions mineures\n",
    "def first4(hexstring):\n",
    "    l = \"0x\"\n",
    "    for i in range(2,6,1):\n",
    "        l += hexstring[i]\n",
    "    return l\n",
    "\n",
    "def first4no(hexstring):\n",
    "    l=\"\"\n",
    "    for i in range(2,6,1):\n",
    "        l += hexstring[i]\n",
    "    return l\n",
    "\n",
    "def last8(hexstring):\n",
    "    l = \"0x\"\n",
    "    for i in range(-8,0,1):    \n",
    "        l += hexstring[i]\n",
    "    return l\n",
    "           \n",
    "def nature(inp):\n",
    "    return natures[inp%25]\n",
    "    \n",
    "a = 1025\n",
    "nature(a)"
   ]
  },
  {
   "cell_type": "code",
   "execution_count": 20,
   "id": "278c60f0-d6f8-415e-8876-a31df26ee832",
   "metadata": {},
   "outputs": [
    {
     "name": "stdout",
     "output_type": "stream",
     "text": [
      "Timide\n",
      "Relax\n",
      "Timide\n",
      "Sérieux\n",
      "Solo\n",
      "Malin\n",
      "Pudique\n",
      "Brave\n",
      "Gentil\n",
      "Timide\n"
     ]
    }
   ],
   "source": [
    "def PID(frame):\n",
    "    PIDhigh = GLCRS(frame,frame+1)[frame+1][1]\n",
    "    PIDlow = first4no(GLCRS(frame-1,frame)[frame][1])\n",
    "    PIDfull = PIDhigh+PIDlow\n",
    "    return PIDfull\n",
    "\n",
    "\n",
    "\n",
    "for i in range(4910,4920):\n",
    "    print(nature(int(PID(i),16)))"
   ]
  },
  {
   "cell_type": "code",
   "execution_count": 11,
   "id": "b14c4145-eefe-4ddd-a6b0-88fcc65f1ad4",
   "metadata": {},
   "outputs": [
    {
     "data": {
      "text/plain": [
       "{1: ('0x000005a0', '0x0000', 0),\n",
       " 4901: ('0x1c496815444130a4', '0x4441', 17473),\n",
       " 4902: ('0x11896cae2f6c0e47', '0x2f6c', 12140),\n",
       " 4903: ('0xc2f2bba2f4616ae', '0x2f46', 12102),\n",
       " 4904: ('0xc256a7334550c89', '0x3455', 13397),\n",
       " 4905: ('0xd7221feacfe74c8', '0xacfe', 44286),\n",
       " 4906: ('0x2c729d744a9d099b', '0x4a9d', 19101),\n",
       " 4907: ('0x132babc166acb172', '0x66ac', 26284),\n",
       " 4908: ('0x1a61621385c4a9fd', '0x85c4', 34244),\n",
       " 4909: ('0x225e8e3f9735d72c', '0x9735', 38709),\n",
       " 4910: ('0x26d9cd996184662f', '0x6184', 24964),\n",
       " 4911: ('0x190e2838d3dc3476', '0xd3dc', 54236),\n",
       " 4912: ('0x366f0689d602aab1', '0xd602', 54786),\n",
       " 4913: ('0x36fc74f6e50afbd0', '0xe50a', 58634),\n",
       " 4914: ('0x3ad936997146f803', '0x7146', 28998),\n",
       " 4915: ('0x1d1ac490701ae3ba', '0x701a', 28698),\n",
       " 4916: ('0x1ccdaaf648b202a5', '0x48b2', 18610),\n",
       " 4917: ('0x12ad829f2137c6b4', '0x2137', 8503),\n",
       " 4918: ('0x888e4c48682d317', '0x8682', 34434),\n",
       " 4919: ('0x228f69fd3ccf433e', '0x3ccf', 15567),\n",
       " 4920: ('0xf9fbb01cab0e5d9', '0xcab0', 51888),\n",
       " 4921: ('0x3413ed4612305bd8', '0x1230', 4656),\n",
       " 4922: ('0x4ac5e4b5ba34b6b', '0x5ba3', 23459),\n",
       " 4923: ('0x178b728545441702', '0x4544', 17732),\n",
       " 4924: ('0x11cbf1b98a8cc84d', '0x8a8c', 35468),\n",
       " 4925: ('0x239912305b871f3c', '0x5b87', 23431),\n",
       " 4926: ('0x1784357a8874f4ff', '0x8874', 34932),\n",
       " 4927: ('0x230f6677f8ac6306', '0xf8ac', 63660),\n",
       " 4928: ('0x3fe466a784365e01', '0x8436', 33846),\n",
       " 4929: ('0x21f8386bd190b4e0', '0xd190', 53648),\n",
       " 4930: ('0x35d8140c16f9a3d3', '0x16f9', 5881),\n",
       " 4931: ('0x5e72eb720676b4a', '0x2067', 8295),\n",
       " 4932: ('0x8535c2813f59af5', '0x13f5', 5109),\n",
       " 4933: ('0x520d26b634800c4', '0x6348', 25416),\n",
       " 4934: ('0x1982304c917c6be7', '0x917c', 37244),\n",
       " 4935: ('0x25614a32f684b3ce', '0xf684', 63108),\n",
       " 4936: ('0x3f56a7cfc49db329', '0xc49d', 50333),\n",
       " 4937: ('0x328458b1be7226e8', '0xbe72', 48754),\n",
       " 4938: ('0x30ee8282dde5a13b', '0xdde5', 56805),\n",
       " 4939: ('0x3903318520880092', '0x2088', 8328),\n",
       " 4940: ('0x85bbb4ccd011a9d', '0xcd01', 52481),\n",
       " 4941: ('0x34ac156a12028b4c', '0x1202', 4610),\n",
       " 4942: ('0x4a098da7a4ed7cf', '0x7a4e', 31310),\n",
       " 4943: ('0x1f6cc33e926d5596', '0x926d', 37485),\n",
       " 4944: ('0x259f3026f0a58551', '0xf0a5', 61605),\n",
       " 4945: ('0x3dd4709792bed1f0', '0x92be', 37566),\n",
       " 4946: ('0x25b41fd8eed6e3a3', '0xeed6', 61142),\n",
       " 4947: ('0x3d5d932b9decf6da', '0x9dec', 40428),\n",
       " 4948: ('0x28938055b7b7e745', '0xb7b7', 47031),\n",
       " 4949: ('0x2f34023da622ded4', '0xa622', 42530),\n",
       " 4950: ('0x2aaf8c7188b5d8b7', '0x88b5', 34997),\n",
       " 4951: ('0x2320128db1ff685e', '0xb1ff', 45567),\n",
       " 4952: ('0x2dbbbb9232407479', '0x3240', 12864),\n",
       " 4953: ('0xce94ad1d784d5f8', '0xd784', 55172),\n",
       " 4954: ('0x375fad17b2910b0b', '0xb291', 45713),\n",
       " 4955: ('0x2de126b08ea16e22', '0x8ea1', 36513),\n",
       " 4956: ('0x24a57983ba96a0ed', '0xba96', 47766),\n",
       " 4957: ('0x2ff0c885fb791b5c', '0xfb79', 64377),\n",
       " 4958: ('0x409c8ca77e0f0e9f', '0x7e0f', 32271),\n",
       " 4959: ('0x206378f9f0d80c26', '0xf0d8', 61656),\n",
       " 4960: ('0x3de16bf76b1520a1', '0x6b15', 27413),\n",
       " 4961: ('0x1b83506e25765300', '0x2576', 9590),\n",
       " 4962: ('0x9a0101132abb773', '0x32ab', 12971),\n",
       " 4963: ('0xd04d9e9faf4866a', '0xfaf4', 64244),\n",
       " 4964: ('0x407a7c223b0de795', '0x3b0d', 15117),\n",
       " 4965: ('0xf2c46a553b960e4', '0x53b9', 21433),\n",
       " 4966: ('0x1582eca0f5cc1987', '0xf5cc', 62924),\n",
       " 4967: ('0x3f2739a3dd1860ee', '0xdd18', 56600),\n",
       " 4968: ('0x38ce7532f6fe29c9', '0xf6fe', 63230),\n",
       " 4969: ('0x3f75dcdaf5696908', '0xf569', 62825),\n",
       " 4970: ('0x3f0dde60e01288db', '0xe012', 57362),\n",
       " 4971: ('0x399247ba81f95fb2', '0x81f9', 33273),\n",
       " 4972: ('0x2164fffd88025b3d', '0x8802', 34818),\n",
       " 4973: ('0x22f1f4a7aefbcf6c', '0xaefb', 44795),\n",
       " 4974: ('0x2cf57c0813f2996f', '0x13f2', 5106),\n",
       " 4975: ('0x5200cb443e586b6', '0x43e5', 17381),\n",
       " 4976: ('0x1171df873e8a2ff1', '0x3e8a', 16010),\n",
       " 4977: ('0x1011883600d83810', '0x00d8', 216),\n",
       " 4978: ('0x378db9a9851f43', '0xa985', 43397),\n",
       " 4979: ('0x2b8e1dd4ee0719fa', '0xee07', 60935),\n",
       " 4980: ('0x3d283002144c9be5', '0x144c', 5196),\n",
       " 4981: ('0x5372d0db43c86f4', '0xb43c', 46140),\n",
       " 4982: ('0x2e4efc4b839c2e57', '0x839c', 33692),\n",
       " 4983: ('0x21d09ae18de89d7e', '0x8de8', 36328),\n",
       " 4984: ('0x2475fd60197bd319', '0x197b', 6523),\n",
       " 4985: ('0x68c2e2d3260e018', '0x3260', 12896),\n",
       " 4986: ('0xcf19f4262171aab', '0x6217', 25111),\n",
       " 4987: ('0x1933d9b0d938d542', '0xd938', 55608),\n",
       " 4988: ('0x37cfb2a68139498d', '0x8139', 33081),\n",
       " 4989: ('0x2133a59229dba77c', '0x29db', 10715),\n",
       " 4990: ('0xac1323cc576783f', '0xc576', 50550),\n",
       " 4991: ('0x32bc0aa72bcec546', '0x2bce', 11214),\n",
       " 4992: ('0xb416f6f0149b341', '0x0149', 329),\n",
       " 4993: ('0x54b5e926458120', '0x2645', 9797),\n",
       " 4994: ('0x9d54b4477b01b13', '0x77b0', 30640),\n",
       " 4995: ('0x1ec06dbf61edb18a', '0x61ed', 25069),\n",
       " 4996: ('0x192935eb79090435', '0x7909', 30985),\n",
       " 4997: ('0x1f190c1efe1d5104', '0xfe1d', 65053),\n",
       " 4998: ('0x414a4a17ce431727', '0xce43', 52803),\n",
       " 4999: ('0x34fecff512c91e0e', '0x12c9', 4809),\n",
       " 5000: ('0x4d39df0139e7069', '0x139e', 5022)}"
      ]
     },
     "execution_count": 11,
     "metadata": {},
     "output_type": "execute_result"
    }
   ],
   "source": [
    "#fonction pour simuler le GLC de Pokémon Rubis et Saphir\n",
    "def GLCRS(start, stop):\n",
    "    lastseed = \"0x000005a0\"\n",
    "    a = 0x41c64e6d\n",
    "    c = 0x6073\n",
    "    i = 1\n",
    "    liste = {}\n",
    "    liste[1]= lastseed,first4(last8(lastseed)),int(first4(last8(lastseed)),16)\n",
    "    while i < stop :\n",
    "        i += 1\n",
    "        lastseed = hex(a*int(last8(lastseed),16)+c)\n",
    "        if i > start :\n",
    "            liste[i] = lastseed,first4(last8(lastseed)),(int(first4(last8(lastseed)),16))\n",
    "    return liste\n",
    "\n",
    "#GLCRS(valeurstart,valeurstop)*\n",
    "GLCRS(4900,5000)"
   ]
  },
  {
   "cell_type": "code",
   "execution_count": 4,
   "id": "00aec19a-b83d-4d55-8ccc-e6d59a531f37",
   "metadata": {},
   "outputs": [
    {
     "data": {
      "text/plain": [
       "{1: ('0x00000000', '0x0000', 0),\n",
       " 2: ('0x6073', '0x6073', 24691),\n",
       " 3: ('0x18c7e97e7b6a', '0xe97e', 59774),\n",
       " 4: ('0x3bfdfcb152713895', '0x5271', 21105),\n",
       " 5: ('0x152e9c3131b0dde4', '0x31b0', 12720)}"
      ]
     },
     "execution_count": 4,
     "metadata": {},
     "output_type": "execute_result"
    }
   ],
   "source": [
    "#fonction pour simuler le GLC de Pokémon Emeraude\n",
    "def GLCE(start, stop):\n",
    "    lastseed = \"0x00006073\"\n",
    "    a = 0x41c64e6d\n",
    "    c = 0x00006073\n",
    "    i = 2\n",
    "    liste = {}\n",
    "    liste[1]= '0x00000000','0x0000',0\n",
    "    liste[2]= hex(c),hex(c),int(c)\n",
    "    while i < stop :\n",
    "        i += 1\n",
    "        lastseed = hex(a*int(last8(lastseed),16)+c)\n",
    "        if i > start :\n",
    "            liste[i] = lastseed,first4(last8(lastseed)),int(first4(last8(lastseed)),16)\n",
    "    return liste\n",
    "\n",
    "#GLCE(valeurstart,valeurstop)\n",
    "GLCE(0,5)"
   ]
  }
 ],
 "metadata": {
  "kernelspec": {
   "display_name": "Python 3 (ipykernel)",
   "language": "python",
   "name": "python3"
  },
  "language_info": {
   "codemirror_mode": {
    "name": "ipython",
    "version": 3
   },
   "file_extension": ".py",
   "mimetype": "text/x-python",
   "name": "python",
   "nbconvert_exporter": "python",
   "pygments_lexer": "ipython3",
   "version": "3.10.0"
  }
 },
 "nbformat": 4,
 "nbformat_minor": 5
}
